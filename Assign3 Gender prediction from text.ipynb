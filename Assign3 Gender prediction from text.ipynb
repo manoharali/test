{
 "cells": [
  {
   "metadata": {},
   "cell_type": "markdown",
   "source": "#  Loading some Required Libraries",
   "id": "20f2173e8b1061f3"
  },
  {
   "cell_type": "code",
   "id": "initial_id",
   "metadata": {
    "collapsed": true,
    "ExecuteTime": {
     "end_time": "2024-07-28T13:51:23.875669Z",
     "start_time": "2024-07-28T13:51:23.866699Z"
    }
   },
   "source": [
    "import pandas as pd\n",
    "import re\n",
    "from sklearn.feature_extraction.text import ENGLISH_STOP_WORDS\n",
    "from sklearn.feature_extraction.text import TfidfVectorizer\n",
    "from sklearn.model_selection import train_test_split\n",
    "from sklearn.linear_model import LogisticRegression\n",
    "from sklearn.naive_bayes import MultinomialNB\n",
    "from sklearn.tree import DecisionTreeClassifier\n",
    "from sklearn.ensemble import RandomForestClassifier\n",
    "from sklearn.svm import SVC\n",
    "from sklearn.neighbors import KNeighborsClassifier\n",
    "from sklearn.metrics import accuracy_score, classification_report\n",
    "import joblib"
   ],
   "outputs": [],
   "execution_count": 40
  },
  {
   "metadata": {},
   "cell_type": "markdown",
   "source": "# Step 1: Load Data",
   "id": "fcd28816fe898f6b"
  },
  {
   "metadata": {
    "ExecuteTime": {
     "end_time": "2024-07-28T13:00:22.564114Z",
     "start_time": "2024-07-28T13:00:22.115054Z"
    }
   },
   "cell_type": "code",
   "source": [
    "# Load the data\n",
    "data = pd.read_csv('gender_prediction_frm_txt.csv')"
   ],
   "id": "f08ce741256a2ffa",
   "outputs": [],
   "execution_count": 2
  },
  {
   "metadata": {
    "ExecuteTime": {
     "end_time": "2024-07-28T13:00:31.737336Z",
     "start_time": "2024-07-28T13:00:31.605552Z"
    }
   },
   "cell_type": "code",
   "source": "data.sample(10)",
   "id": "ae01408d547748b0",
   "outputs": [
    {
     "data": {
      "text/plain": [
       "       Unnamed: 0.1  Unnamed: 0   gender  \\\n",
       "7475           7475        9736   female   \n",
       "9761           9761       12400   female   \n",
       "11490         11490       14394  unknown   \n",
       "11583         11583       14502     male   \n",
       "640             640         735  unknown   \n",
       "4418           4418        5167   female   \n",
       "15311         15311       18835     male   \n",
       "8435           8435       10881     male   \n",
       "10912         10912       13708     male   \n",
       "8702           8702       11200     male   \n",
       "\n",
       "                                             description  \n",
       "7475   Life is about dreams, hopes, and goals. Mine i...  \n",
       "9761                                            be happy  \n",
       "11490  #OpenDM / #Bi / #OpenRP / #YaoiRP / #OpenDM / ...  \n",
       "11583                       Desperate for a creative bio  \n",
       "640    i hate @kyosukekiyo // according to a possible...  \n",
       "4418   Mayson's mommy 10.13.15 _ü In love with T....  \n",
       "15311                                         unbothered  \n",
       "8435     Proud National Socialist - Cis white male - Goy  \n",
       "10912              just one girl who loves justin bieber  \n",
       "8702                         Like our hands, our hearts.  "
      ],
      "text/html": [
       "<div>\n",
       "<style scoped>\n",
       "    .dataframe tbody tr th:only-of-type {\n",
       "        vertical-align: middle;\n",
       "    }\n",
       "\n",
       "    .dataframe tbody tr th {\n",
       "        vertical-align: top;\n",
       "    }\n",
       "\n",
       "    .dataframe thead th {\n",
       "        text-align: right;\n",
       "    }\n",
       "</style>\n",
       "<table border=\"1\" class=\"dataframe\">\n",
       "  <thead>\n",
       "    <tr style=\"text-align: right;\">\n",
       "      <th></th>\n",
       "      <th>Unnamed: 0.1</th>\n",
       "      <th>Unnamed: 0</th>\n",
       "      <th>gender</th>\n",
       "      <th>description</th>\n",
       "    </tr>\n",
       "  </thead>\n",
       "  <tbody>\n",
       "    <tr>\n",
       "      <th>7475</th>\n",
       "      <td>7475</td>\n",
       "      <td>9736</td>\n",
       "      <td>female</td>\n",
       "      <td>Life is about dreams, hopes, and goals. Mine i...</td>\n",
       "    </tr>\n",
       "    <tr>\n",
       "      <th>9761</th>\n",
       "      <td>9761</td>\n",
       "      <td>12400</td>\n",
       "      <td>female</td>\n",
       "      <td>be happy</td>\n",
       "    </tr>\n",
       "    <tr>\n",
       "      <th>11490</th>\n",
       "      <td>11490</td>\n",
       "      <td>14394</td>\n",
       "      <td>unknown</td>\n",
       "      <td>#OpenDM / #Bi / #OpenRP / #YaoiRP / #OpenDM / ...</td>\n",
       "    </tr>\n",
       "    <tr>\n",
       "      <th>11583</th>\n",
       "      <td>11583</td>\n",
       "      <td>14502</td>\n",
       "      <td>male</td>\n",
       "      <td>Desperate for a creative bio</td>\n",
       "    </tr>\n",
       "    <tr>\n",
       "      <th>640</th>\n",
       "      <td>640</td>\n",
       "      <td>735</td>\n",
       "      <td>unknown</td>\n",
       "      <td>i hate @kyosukekiyo // according to a possible...</td>\n",
       "    </tr>\n",
       "    <tr>\n",
       "      <th>4418</th>\n",
       "      <td>4418</td>\n",
       "      <td>5167</td>\n",
       "      <td>female</td>\n",
       "      <td>Mayson's mommy 10.13.15 _ü In love with T....</td>\n",
       "    </tr>\n",
       "    <tr>\n",
       "      <th>15311</th>\n",
       "      <td>15311</td>\n",
       "      <td>18835</td>\n",
       "      <td>male</td>\n",
       "      <td>unbothered</td>\n",
       "    </tr>\n",
       "    <tr>\n",
       "      <th>8435</th>\n",
       "      <td>8435</td>\n",
       "      <td>10881</td>\n",
       "      <td>male</td>\n",
       "      <td>Proud National Socialist - Cis white male - Goy</td>\n",
       "    </tr>\n",
       "    <tr>\n",
       "      <th>10912</th>\n",
       "      <td>10912</td>\n",
       "      <td>13708</td>\n",
       "      <td>male</td>\n",
       "      <td>just one girl who loves justin bieber</td>\n",
       "    </tr>\n",
       "    <tr>\n",
       "      <th>8702</th>\n",
       "      <td>8702</td>\n",
       "      <td>11200</td>\n",
       "      <td>male</td>\n",
       "      <td>Like our hands, our hearts.</td>\n",
       "    </tr>\n",
       "  </tbody>\n",
       "</table>\n",
       "</div>"
      ]
     },
     "execution_count": 3,
     "metadata": {},
     "output_type": "execute_result"
    }
   ],
   "execution_count": 3
  },
  {
   "metadata": {},
   "cell_type": "markdown",
   "source": "## Step 2:  Drop rows with NaN values in the text column",
   "id": "6b07860cd130e3a1"
  },
  {
   "metadata": {},
   "cell_type": "markdown",
   "source": [
    "### Handling NaN Values in the Text Column\n",
    "\n",
    "#### Definition of NaN Values\n",
    "NaN stands for \"Not a Number\" and is used to represent missing or undefined values in a dataset. In the context of text data, NaN values indicate that a particular entry in the text column is missing or empty.\n",
    "\n",
    "#### Purpose of Dropping Rows with NaN Values\n",
    "Dropping rows with NaN values is an essential pre-processing step to ensure that the dataset is clean and complete. Working with incomplete data can lead to errors and unreliable results in text analysis and machine learning models. By removing rows with NaN values, we can:\n",
    "\n",
    "1. **Ensure Data Quality**: Removing incomplete data entries helps maintain the integrity and quality of the dataset.\n",
    "2. **Prevent Errors**: Many text processing functions and machine learning algorithms cannot handle NaN values and will raise errors if they encounter them.\n",
    "3. **Improve Model Performance**: Clean and complete data contributes to more accurate and reliable model performance.\n"
   ],
   "id": "adfed99ec6b3b1e7"
  },
  {
   "metadata": {
    "ExecuteTime": {
     "end_time": "2024-07-28T13:02:06.285795Z",
     "start_time": "2024-07-28T13:02:06.264703Z"
    }
   },
   "cell_type": "code",
   "source": "data_dropped = data.dropna()",
   "id": "c64d033606057b4c",
   "outputs": [],
   "execution_count": 5
  },
  {
   "metadata": {
    "ExecuteTime": {
     "end_time": "2024-07-28T13:02:29.736840Z",
     "start_time": "2024-07-28T13:02:29.730266Z"
    }
   },
   "cell_type": "code",
   "source": "print(len(data_dropped))",
   "id": "cbc3be00e37b1e3a",
   "outputs": [
    {
     "name": "stdout",
     "output_type": "stream",
     "text": [
      "16224\n"
     ]
    }
   ],
   "execution_count": 6
  },
  {
   "metadata": {
    "ExecuteTime": {
     "end_time": "2024-07-28T13:02:39.097298Z",
     "start_time": "2024-07-28T13:02:39.069206Z"
    }
   },
   "cell_type": "code",
   "source": "data.drop(['Unnamed: 0.1','Unnamed: 0'],axis=1)",
   "id": "450e54a214704935",
   "outputs": [
    {
     "data": {
      "text/plain": [
       "       gender                                        description\n",
       "0        male                              i sing my own rhythm.\n",
       "1        male  I'm the author of novels filled with family dr...\n",
       "2        male                louis whining and squealing and all\n",
       "3        male  Mobile guy.  49ers, Shazam, Google, Kleiner Pe...\n",
       "4      female  Ricky Wilson The Best FRONTMAN/Kaiser Chiefs T...\n",
       "...       ...                                                ...\n",
       "16219  female                                               (rp)\n",
       "16220    male  Whatever you like, it's not a problem at all. ...\n",
       "16221    male  #TeamBarcelona ..You look lost so you should f...\n",
       "16222  female  Anti-statist; I homeschool my kids. Aspiring t...\n",
       "16223  female                     Teamwork makes the dream work.\n",
       "\n",
       "[16224 rows x 2 columns]"
      ],
      "text/html": [
       "<div>\n",
       "<style scoped>\n",
       "    .dataframe tbody tr th:only-of-type {\n",
       "        vertical-align: middle;\n",
       "    }\n",
       "\n",
       "    .dataframe tbody tr th {\n",
       "        vertical-align: top;\n",
       "    }\n",
       "\n",
       "    .dataframe thead th {\n",
       "        text-align: right;\n",
       "    }\n",
       "</style>\n",
       "<table border=\"1\" class=\"dataframe\">\n",
       "  <thead>\n",
       "    <tr style=\"text-align: right;\">\n",
       "      <th></th>\n",
       "      <th>gender</th>\n",
       "      <th>description</th>\n",
       "    </tr>\n",
       "  </thead>\n",
       "  <tbody>\n",
       "    <tr>\n",
       "      <th>0</th>\n",
       "      <td>male</td>\n",
       "      <td>i sing my own rhythm.</td>\n",
       "    </tr>\n",
       "    <tr>\n",
       "      <th>1</th>\n",
       "      <td>male</td>\n",
       "      <td>I'm the author of novels filled with family dr...</td>\n",
       "    </tr>\n",
       "    <tr>\n",
       "      <th>2</th>\n",
       "      <td>male</td>\n",
       "      <td>louis whining and squealing and all</td>\n",
       "    </tr>\n",
       "    <tr>\n",
       "      <th>3</th>\n",
       "      <td>male</td>\n",
       "      <td>Mobile guy.  49ers, Shazam, Google, Kleiner Pe...</td>\n",
       "    </tr>\n",
       "    <tr>\n",
       "      <th>4</th>\n",
       "      <td>female</td>\n",
       "      <td>Ricky Wilson The Best FRONTMAN/Kaiser Chiefs T...</td>\n",
       "    </tr>\n",
       "    <tr>\n",
       "      <th>...</th>\n",
       "      <td>...</td>\n",
       "      <td>...</td>\n",
       "    </tr>\n",
       "    <tr>\n",
       "      <th>16219</th>\n",
       "      <td>female</td>\n",
       "      <td>(rp)</td>\n",
       "    </tr>\n",
       "    <tr>\n",
       "      <th>16220</th>\n",
       "      <td>male</td>\n",
       "      <td>Whatever you like, it's not a problem at all. ...</td>\n",
       "    </tr>\n",
       "    <tr>\n",
       "      <th>16221</th>\n",
       "      <td>male</td>\n",
       "      <td>#TeamBarcelona ..You look lost so you should f...</td>\n",
       "    </tr>\n",
       "    <tr>\n",
       "      <th>16222</th>\n",
       "      <td>female</td>\n",
       "      <td>Anti-statist; I homeschool my kids. Aspiring t...</td>\n",
       "    </tr>\n",
       "    <tr>\n",
       "      <th>16223</th>\n",
       "      <td>female</td>\n",
       "      <td>Teamwork makes the dream work.</td>\n",
       "    </tr>\n",
       "  </tbody>\n",
       "</table>\n",
       "<p>16224 rows × 2 columns</p>\n",
       "</div>"
      ]
     },
     "execution_count": 7,
     "metadata": {},
     "output_type": "execute_result"
    }
   ],
   "execution_count": 7
  },
  {
   "metadata": {},
   "cell_type": "markdown",
   "source": [
    "# Step 3 Data Cleaning Functions\n",
    "\n",
    "We'll create three separate data cleaning functions to preprocess the ``'description'`` column. <br> These functions will handle different aspects of text cleaning: ``removing symbols and numbers``, converting text to ``lowercase``, and removing ``stopwords``. <br>We will also create a clean_text function that applies all three cleaning steps for simplicity."
   ],
   "id": "27eccf6e700788b8"
  },
  {
   "metadata": {},
   "cell_type": "markdown",
   "source": [
    "## Function 1: remove_symbols_numbers\n",
    "\n",
    "This function removes all ``non-alphabetic`` characters (symbols and numbers) from the input text, retaining only alphabetic characters and spaces."
   ],
   "id": "12658eb3da7a2464"
  },
  {
   "metadata": {
    "ExecuteTime": {
     "end_time": "2024-07-28T13:19:23.445163Z",
     "start_time": "2024-07-28T13:19:23.440139Z"
    }
   },
   "cell_type": "code",
   "source": [
    "def remove_symbols_numbers(text):\n",
    "    return re.sub(r'[^a-zA-Z\\s]', '', text)"
   ],
   "id": "83bf1360c8c59a4d",
   "outputs": [],
   "execution_count": 13
  },
  {
   "metadata": {},
   "cell_type": "markdown",
   "source": [
    "## Function 2: to_lowercase\n",
    "\n",
    "This function converts all characters in the input text to ``lowercase``."
   ],
   "id": "fdcb6f207034058a"
  },
  {
   "metadata": {
    "ExecuteTime": {
     "end_time": "2024-07-28T13:19:24.851431Z",
     "start_time": "2024-07-28T13:19:24.846099Z"
    }
   },
   "cell_type": "code",
   "source": [
    "def to_lowercase(text):\n",
    "    return text.lower()"
   ],
   "id": "90e721fcc138dc9",
   "outputs": [],
   "execution_count": 14
  },
  {
   "metadata": {},
   "cell_type": "markdown",
   "source": [
    "## Function 3: remove_stopwords\n",
    "\n",
    "This function removes common stopwords from the input text. Stopwords are frequently used words in a language that carry little meaning ``(e.g., \"and\", \"the\", \"is\")``."
   ],
   "id": "37416305bc82ffa8"
  },
  {
   "metadata": {
    "ExecuteTime": {
     "end_time": "2024-07-28T13:20:22.586966Z",
     "start_time": "2024-07-28T13:20:22.580199Z"
    }
   },
   "cell_type": "code",
   "source": [
    "def remove_stopwords(text):\n",
    "    words = text.split()\n",
    "    words = [word for word in words if word not in ENGLISH_STOP_WORDS]\n",
    "    return ' '.join(words)"
   ],
   "id": "5e50d8b881354fae",
   "outputs": [],
   "execution_count": 16
  },
  {
   "metadata": {},
   "cell_type": "markdown",
   "source": [
    "## Combined Function: clean_text\n",
    "\n",
    "This function applies all three cleaning steps to the input text."
   ],
   "id": "df2c735e437acfe9"
  },
  {
   "metadata": {
    "ExecuteTime": {
     "end_time": "2024-07-28T13:21:00.989824Z",
     "start_time": "2024-07-28T13:21:00.983899Z"
    }
   },
   "cell_type": "code",
   "source": [
    "def clean_text(text):\n",
    "    text = remove_symbols_numbers(text)\n",
    "    text = to_lowercase(text)\n",
    "    text = remove_stopwords(text)\n",
    "    return text"
   ],
   "id": "fb8bc3daa5c3edf8",
   "outputs": [],
   "execution_count": 18
  },
  {
   "metadata": {},
   "cell_type": "markdown",
   "source": [
    "## Applying the Cleaning Functions\n",
    "\n",
    "We will apply the clean_text function to the ``'description'`` column of the dataset."
   ],
   "id": "a16fe9f1734f477"
  },
  {
   "metadata": {
    "ExecuteTime": {
     "end_time": "2024-07-28T13:21:54.545887Z",
     "start_time": "2024-07-28T13:21:54.356154Z"
    }
   },
   "cell_type": "code",
   "source": [
    "# Apply the cleaning function to the 'description' column\n",
    "data['description'] = data['description'].apply(clean_text)"
   ],
   "id": "1b994eb1f23af2c",
   "outputs": [],
   "execution_count": 19
  },
  {
   "metadata": {},
   "cell_type": "markdown",
   "source": "### Select 50 male and 50 female instances",
   "id": "f784fde2e09603cc"
  },
  {
   "metadata": {
    "ExecuteTime": {
     "end_time": "2024-07-28T13:22:57.164049Z",
     "start_time": "2024-07-28T13:22:57.136498Z"
    }
   },
   "cell_type": "code",
   "source": [
    "male_data = data[data['gender'] == 'male'].sample(n=50, random_state=42)\n",
    "female_data = data[data['gender'] == 'female'].sample(n=50, random_state=42)\n",
    "selected_data = pd.concat([male_data, female_data]).reset_index(drop=True)"
   ],
   "id": "5fa35fc76ff1bc77",
   "outputs": [],
   "execution_count": 22
  },
  {
   "metadata": {},
   "cell_type": "markdown",
   "source": [
    "# Step 4: Vectorization\n",
    "\n",
    "After cleaning the text data, we convert the ``'description'`` column into numerical features using ``TF-IDF(Term Frequency-Inverse Document Frequency`` vectorization. This step transforms the text data into a format suitable for machine learning models.\n",
    "\n",
    "## TF-IDF Vectorization\n",
    "\n",
    "To convert text data into numerical features by calculating the ``TF-IDF`` score for each word in the text. TF-IDF helps in giving importance to words that are frequent in a document but not across all documents."
   ],
   "id": "13564587dbee7c05"
  },
  {
   "metadata": {
    "ExecuteTime": {
     "end_time": "2024-07-28T13:24:08.092160Z",
     "start_time": "2024-07-28T13:24:08.076480Z"
    }
   },
   "cell_type": "code",
   "source": [
    "vectorizer = TfidfVectorizer()\n",
    "\n",
    "# Apply TF-IDF on 'description' column\n",
    "X = vectorizer.fit_transform(selected_data['description'])\n",
    "\n",
    "# The target variable\n",
    "y = selected_data['gender']"
   ],
   "id": "2b4247c834ed218a",
   "outputs": [],
   "execution_count": 26
  },
  {
   "metadata": {},
   "cell_type": "markdown",
   "source": " The result is a sparse matrix X where each row represents a description and each column represents a unique word in the corpus. The values in the matrix are the TF-IDF scores of the words.",
   "id": "d4f8c6ba215bece9"
  },
  {
   "metadata": {},
   "cell_type": "markdown",
   "source": [
    "# Step 5: Model Training and Evaluation\n",
    "\n",
    "We train and evaluate a machine learning model to predict the gender based on the ``TF-IDF`` vectors. Here, we use ``Logistic Regression`` as an example.\n",
    "\n",
    "## Train-Test Split\n",
    "\n",
    "To split the data into training and testing sets. The ``training set`` is used to train the model, and the ``testing set`` is used to evaluate the model's performance on unseen data."
   ],
   "id": "cea73725dd7453cc"
  },
  {
   "metadata": {
    "ExecuteTime": {
     "end_time": "2024-07-28T13:24:51.964127Z",
     "start_time": "2024-07-28T13:24:51.625766Z"
    }
   },
   "cell_type": "code",
   "source": "X_train, X_test, y_train, y_test = train_test_split(X, y, test_size=0.2, random_state=42)",
   "id": "855b88266344d621",
   "outputs": [],
   "execution_count": 27
  },
  {
   "metadata": {},
   "cell_type": "markdown",
   "source": [
    "# Step 6: Model Training\n",
    "\n",
    "To train a machine learning model on the training data."
   ],
   "id": "b1b8b2286294aae8"
  },
  {
   "metadata": {
    "ExecuteTime": {
     "end_time": "2024-07-28T13:25:39.662146Z",
     "start_time": "2024-07-28T13:25:39.459938Z"
    }
   },
   "cell_type": "code",
   "source": [
    "model = LogisticRegression()\n",
    "\n",
    "model.fit(X_train, y_train)\n",
    "\n",
    "y_pred = model.predict(X_test)"
   ],
   "id": "f41c8a277da7d5e2",
   "outputs": [],
   "execution_count": 28
  },
  {
   "metadata": {},
   "cell_type": "markdown",
   "source": [
    "# Step 7: Model Evaluation\n",
    "\n",
    "To evaluate the performance."
   ],
   "id": "634a89cda6959a8e"
  },
  {
   "metadata": {
    "ExecuteTime": {
     "end_time": "2024-07-28T13:26:01.761069Z",
     "start_time": "2024-07-28T13:26:01.738778Z"
    }
   },
   "cell_type": "code",
   "source": [
    "print(\"Logistic Regression Accuracy:\", accuracy_score(y_test, y_pred))\n",
    "print(classification_report(y_test, y_pred))\n"
   ],
   "id": "b99453a14670fcf",
   "outputs": [
    {
     "name": "stdout",
     "output_type": "stream",
     "text": [
      "Logistic Regression Accuracy: 0.45\n",
      "              precision    recall  f1-score   support\n",
      "\n",
      "      female       0.42      1.00      0.59         8\n",
      "        male       1.00      0.08      0.15        12\n",
      "\n",
      "    accuracy                           0.45        20\n",
      "   macro avg       0.71      0.54      0.37        20\n",
      "weighted avg       0.77      0.45      0.33        20\n",
      "\n"
     ]
    }
   ],
   "execution_count": 29
  },
  {
   "metadata": {},
   "cell_type": "markdown",
   "source": "## Applying different models and testing who is performing better",
   "id": "be686807d105cd5d"
  },
  {
   "metadata": {},
   "cell_type": "markdown",
   "source": "# Naive Bayes model",
   "id": "c60fa57802bf5181"
  },
  {
   "metadata": {
    "ExecuteTime": {
     "end_time": "2024-07-28T13:51:29.851483Z",
     "start_time": "2024-07-28T13:51:29.728214Z"
    }
   },
   "cell_type": "code",
   "source": [
    "nb_model = MultinomialNB()\n",
    "\n",
    "\n",
    "nb_model.fit(X_train, y_train)\n",
    "\n",
    "y_pred_nb = nb_model.predict(X_test)\n",
    "\n",
    "# Evaluate the model\n",
    "print(\"Naive Bayes Accuracy:\", accuracy_score(y_test, y_pred_nb))\n",
    "print(classification_report(y_test, y_pred_nb))\n"
   ],
   "id": "f7d1ccb6fdbb4bfa",
   "outputs": [
    {
     "name": "stdout",
     "output_type": "stream",
     "text": [
      "Naive Bayes Accuracy: 0.55\n",
      "              precision    recall  f1-score   support\n",
      "\n",
      "      female       0.47      0.88      0.61         8\n",
      "        male       0.80      0.33      0.47        12\n",
      "\n",
      "    accuracy                           0.55        20\n",
      "   macro avg       0.63      0.60      0.54        20\n",
      "weighted avg       0.67      0.55      0.53        20\n",
      "\n"
     ]
    }
   ],
   "execution_count": 41
  },
  {
   "metadata": {},
   "cell_type": "markdown",
   "source": "# Decision Tree model",
   "id": "5c087a425d815946"
  },
  {
   "metadata": {
    "ExecuteTime": {
     "end_time": "2024-07-28T13:51:48.115463Z",
     "start_time": "2024-07-28T13:51:48.044542Z"
    }
   },
   "cell_type": "code",
   "source": [
    "dt_model = DecisionTreeClassifier()\n",
    "\n",
    "# Train the model\n",
    "dt_model.fit(X_train, y_train)\n",
    "\n",
    "# Predict on the test set\n",
    "y_pred_dt = dt_model.predict(X_test)\n",
    "\n",
    "# Evaluate the model\n",
    "print(\"Decision Tree Accuracy:\", accuracy_score(y_test, y_pred_dt))\n",
    "print(classification_report(y_test, y_pred_dt))"
   ],
   "id": "ea552b4d9752e82f",
   "outputs": [
    {
     "name": "stdout",
     "output_type": "stream",
     "text": [
      "Decision Tree Accuracy: 0.4\n",
      "              precision    recall  f1-score   support\n",
      "\n",
      "      female       0.39      0.88      0.54         8\n",
      "        male       0.50      0.08      0.14        12\n",
      "\n",
      "    accuracy                           0.40        20\n",
      "   macro avg       0.44      0.48      0.34        20\n",
      "weighted avg       0.46      0.40      0.30        20\n",
      "\n"
     ]
    }
   ],
   "execution_count": 42
  },
  {
   "metadata": {},
   "cell_type": "markdown",
   "source": "# Random Forest model",
   "id": "f4030f7bf1d54e6b"
  },
  {
   "metadata": {
    "ExecuteTime": {
     "end_time": "2024-07-28T13:52:03.213532Z",
     "start_time": "2024-07-28T13:52:02.703312Z"
    }
   },
   "cell_type": "code",
   "source": [
    "rf_model = RandomForestClassifier()\n",
    "\n",
    "# Train the model\n",
    "rf_model.fit(X_train, y_train)\n",
    "\n",
    "# Predict on the test set\n",
    "y_pred_rf = rf_model.predict(X_test)\n",
    "\n",
    "# Evaluate the model\n",
    "print(\"Random Forest Accuracy:\", accuracy_score(y_test, y_pred_rf))\n",
    "print(classification_report(y_test, y_pred_rf))\n"
   ],
   "id": "471e48e8245e8395",
   "outputs": [
    {
     "name": "stdout",
     "output_type": "stream",
     "text": [
      "Random Forest Accuracy: 0.4\n",
      "              precision    recall  f1-score   support\n",
      "\n",
      "      female       0.40      1.00      0.57         8\n",
      "        male       0.00      0.00      0.00        12\n",
      "\n",
      "    accuracy                           0.40        20\n",
      "   macro avg       0.20      0.50      0.29        20\n",
      "weighted avg       0.16      0.40      0.23        20\n",
      "\n"
     ]
    },
    {
     "name": "stderr",
     "output_type": "stream",
     "text": [
      "C:\\Users\\Administrator\\anaconda3\\Lib\\site-packages\\sklearn\\metrics\\_classification.py:1344: UndefinedMetricWarning: Precision and F-score are ill-defined and being set to 0.0 in labels with no predicted samples. Use `zero_division` parameter to control this behavior.\n",
      "  _warn_prf(average, modifier, msg_start, len(result))\n",
      "C:\\Users\\Administrator\\anaconda3\\Lib\\site-packages\\sklearn\\metrics\\_classification.py:1344: UndefinedMetricWarning: Precision and F-score are ill-defined and being set to 0.0 in labels with no predicted samples. Use `zero_division` parameter to control this behavior.\n",
      "  _warn_prf(average, modifier, msg_start, len(result))\n",
      "C:\\Users\\Administrator\\anaconda3\\Lib\\site-packages\\sklearn\\metrics\\_classification.py:1344: UndefinedMetricWarning: Precision and F-score are ill-defined and being set to 0.0 in labels with no predicted samples. Use `zero_division` parameter to control this behavior.\n",
      "  _warn_prf(average, modifier, msg_start, len(result))\n"
     ]
    }
   ],
   "execution_count": 43
  },
  {
   "metadata": {},
   "cell_type": "markdown",
   "source": " # SVM model",
   "id": "83b6e7457d5709dd"
  },
  {
   "metadata": {
    "ExecuteTime": {
     "end_time": "2024-07-28T13:52:16.054349Z",
     "start_time": "2024-07-28T13:52:16.008089Z"
    }
   },
   "cell_type": "code",
   "source": [
    "svm_model = SVC()\n",
    "\n",
    "# Train the model\n",
    "svm_model.fit(X_train, y_train)\n",
    "\n",
    "# Predict on the test set\n",
    "y_pred_svm = svm_model.predict(X_test)\n",
    "\n",
    "# Evaluate the model\n",
    "print(\"SVM Accuracy:\", accuracy_score(y_test, y_pred_svm))\n",
    "print(classification_report(y_test, y_pred_svm))\n"
   ],
   "id": "813b831f46eb2ed2",
   "outputs": [
    {
     "name": "stdout",
     "output_type": "stream",
     "text": [
      "SVM Accuracy: 0.4\n",
      "              precision    recall  f1-score   support\n",
      "\n",
      "      female       0.40      1.00      0.57         8\n",
      "        male       0.00      0.00      0.00        12\n",
      "\n",
      "    accuracy                           0.40        20\n",
      "   macro avg       0.20      0.50      0.29        20\n",
      "weighted avg       0.16      0.40      0.23        20\n",
      "\n"
     ]
    },
    {
     "name": "stderr",
     "output_type": "stream",
     "text": [
      "C:\\Users\\Administrator\\anaconda3\\Lib\\site-packages\\sklearn\\metrics\\_classification.py:1344: UndefinedMetricWarning: Precision and F-score are ill-defined and being set to 0.0 in labels with no predicted samples. Use `zero_division` parameter to control this behavior.\n",
      "  _warn_prf(average, modifier, msg_start, len(result))\n",
      "C:\\Users\\Administrator\\anaconda3\\Lib\\site-packages\\sklearn\\metrics\\_classification.py:1344: UndefinedMetricWarning: Precision and F-score are ill-defined and being set to 0.0 in labels with no predicted samples. Use `zero_division` parameter to control this behavior.\n",
      "  _warn_prf(average, modifier, msg_start, len(result))\n",
      "C:\\Users\\Administrator\\anaconda3\\Lib\\site-packages\\sklearn\\metrics\\_classification.py:1344: UndefinedMetricWarning: Precision and F-score are ill-defined and being set to 0.0 in labels with no predicted samples. Use `zero_division` parameter to control this behavior.\n",
      "  _warn_prf(average, modifier, msg_start, len(result))\n"
     ]
    }
   ],
   "execution_count": 44
  },
  {
   "metadata": {},
   "cell_type": "markdown",
   "source": "# KNN (K Nearest Neighbors) model",
   "id": "7136bf1d25df5cb"
  },
  {
   "metadata": {
    "ExecuteTime": {
     "end_time": "2024-07-28T13:52:34.278769Z",
     "start_time": "2024-07-28T13:52:33.143208Z"
    }
   },
   "cell_type": "code",
   "source": [
    "knn_model = KNeighborsClassifier()\n",
    "\n",
    "# Train the model\n",
    "knn_model.fit(X_train, y_train)\n",
    "\n",
    "# Predict on the test set\n",
    "y_pred_knn = knn_model.predict(X_test)\n",
    "\n",
    "# Evaluate the model\n",
    "print(\"KNN Accuracy:\", accuracy_score(y_test, y_pred_knn))\n",
    "print(classification_report(y_test, y_pred_knn))\n"
   ],
   "id": "397e54670949cf8d",
   "outputs": [
    {
     "name": "stdout",
     "output_type": "stream",
     "text": [
      "KNN Accuracy: 0.7\n",
      "              precision    recall  f1-score   support\n",
      "\n",
      "      female       0.58      0.88      0.70         8\n",
      "        male       0.88      0.58      0.70        12\n",
      "\n",
      "    accuracy                           0.70        20\n",
      "   macro avg       0.73      0.73      0.70        20\n",
      "weighted avg       0.76      0.70      0.70        20\n",
      "\n"
     ]
    }
   ],
   "execution_count": 45
  },
  {
   "metadata": {},
   "cell_type": "markdown",
   "source": [
    "## We can see in our nature of dataset the KNN model give us high result.\n",
    "So, this model use for real time prediction."
   ],
   "id": "19d5387b4b82f2"
  },
  {
   "metadata": {
    "ExecuteTime": {
     "end_time": "2024-07-28T13:55:18.751900Z",
     "start_time": "2024-07-28T13:55:18.652430Z"
    }
   },
   "cell_type": "code",
   "source": [
    "# Save the best model KNN\n",
    "joblib.dump(knn_model, 'best_gender_prediction_model_knn.pkl')\n",
    "\n",
    "# Save the TF-IDF vectorizer\n",
    "joblib.dump(vectorizer, 'tfidf_vectorizer.pkl')\n"
   ],
   "id": "d99e9a4ef6163958",
   "outputs": [
    {
     "data": {
      "text/plain": [
       "['tfidf_vectorizer.pkl']"
      ]
     },
     "execution_count": 46,
     "metadata": {},
     "output_type": "execute_result"
    }
   ],
   "execution_count": 46
  },
  {
   "metadata": {},
   "cell_type": "markdown",
   "source": [
    "## Load the Model and Vectorizer for Real-Time Predictions\n",
    "\n",
    "Now, let's write the code to load the saved model and vectorizer, and then get real-time predictions based on user input:"
   ],
   "id": "8061219473fde24c"
  },
  {
   "metadata": {
    "ExecuteTime": {
     "end_time": "2024-07-28T13:57:15.522686Z",
     "start_time": "2024-07-28T13:57:15.506285Z"
    }
   },
   "cell_type": "code",
   "source": [
    "import joblib\n",
    "\n",
    "# Load the trained model\n",
    "model = joblib.load('best_gender_prediction_model_knn.pkl')\n",
    "\n",
    "# Load the TF-IDF vectorizer\n",
    "vectorizer = joblib.load('tfidf_vectorizer.pkl')"
   ],
   "id": "e562c8b785ae54a7",
   "outputs": [],
   "execution_count": 49
  },
  {
   "metadata": {
    "ExecuteTime": {
     "end_time": "2024-07-28T13:57:16.442997Z",
     "start_time": "2024-07-28T13:57:16.435212Z"
    }
   },
   "cell_type": "code",
   "source": [
    "def predict_gender(description):\n",
    "    # Clean the input description\n",
    "    cleaned_description = clean_text(description)\n",
    "\n",
    "    # Transform the input description using the trained TF-IDF vectorizer\n",
    "    description_tfidf = vectorizer.transform([cleaned_description])\n",
    "\n",
    "    # Predict gender using the trained model\n",
    "    prediction = model.predict(description_tfidf)\n",
    "\n",
    "    return prediction[0]"
   ],
   "id": "92655234b4c61f2e",
   "outputs": [],
   "execution_count": 50
  },
  {
   "metadata": {
    "ExecuteTime": {
     "end_time": "2024-07-28T13:57:22.463081Z",
     "start_time": "2024-07-28T13:57:18.702854Z"
    }
   },
   "cell_type": "code",
   "source": [
    "# Get input description from the user\n",
    "new_description = input(\"Enter a description: \")\n",
    "\n",
    "# Predict the gender\n",
    "predicted_gender = predict_gender(new_description)\n",
    "print(\"Predicted Gender:\", predicted_gender)\n"
   ],
   "id": "67dd2164a5d4a71f",
   "outputs": [
    {
     "name": "stdout",
     "output_type": "stream",
     "text": [
      "Predicted Gender: male\n"
     ]
    }
   ],
   "execution_count": 51
  },
  {
   "metadata": {},
   "cell_type": "markdown",
   "source": "## ---- Happy Learning & Always Keep Smile ----",
   "id": "70708da20ff5b217"
  },
  {
   "metadata": {},
   "cell_type": "markdown",
   "source": "# ---- Jazakallah Khair ----",
   "id": "69ca92810bf7f5f6"
  },
  {
   "metadata": {},
   "cell_type": "code",
   "outputs": [],
   "execution_count": null,
   "source": "",
   "id": "b9ed2b6c8db019e7"
  }
 ],
 "metadata": {
  "kernelspec": {
   "display_name": "Python 3",
   "language": "python",
   "name": "python3"
  },
  "language_info": {
   "codemirror_mode": {
    "name": "ipython",
    "version": 2
   },
   "file_extension": ".py",
   "mimetype": "text/x-python",
   "name": "python",
   "nbconvert_exporter": "python",
   "pygments_lexer": "ipython2",
   "version": "2.7.6"
  }
 },
 "nbformat": 4,
 "nbformat_minor": 5
}
