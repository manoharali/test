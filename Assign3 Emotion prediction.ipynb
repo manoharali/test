{
 "cells": [
  {
   "metadata": {},
   "cell_type": "markdown",
   "source": "#  Loading some Required Libraries",
   "id": "20f2173e8b1061f3"
  },
  {
   "cell_type": "code",
   "id": "initial_id",
   "metadata": {
    "collapsed": true,
    "ExecuteTime": {
     "end_time": "2024-07-28T14:42:02.408939Z",
     "start_time": "2024-07-28T14:42:02.398047Z"
    }
   },
   "source": [
    "import re\n",
    "import joblib\n",
    "import warnings\n",
    "\n",
    "\n",
    "import pandas as pd\n",
    "from sklearn.feature_extraction.text import ENGLISH_STOP_WORDS\n",
    "from sklearn.feature_extraction.text import TfidfVectorizer\n",
    "from sklearn.model_selection import train_test_split\n",
    "from sklearn.linear_model import LogisticRegression\n",
    "from sklearn.naive_bayes import MultinomialNB\n",
    "from sklearn.tree import DecisionTreeClassifier\n",
    "from sklearn.ensemble import RandomForestClassifier\n",
    "from sklearn.svm import SVC\n",
    "from sklearn.neighbors import KNeighborsClassifier\n",
    "from sklearn.metrics import accuracy_score, classification_report\n",
    "\n",
    "# Ignore all warnings\n",
    "warnings.filterwarnings(\"ignore\")"
   ],
   "outputs": [],
   "execution_count": 29
  },
  {
   "metadata": {},
   "cell_type": "markdown",
   "source": "# Step 1: Load Data",
   "id": "fcd28816fe898f6b"
  },
  {
   "metadata": {
    "ExecuteTime": {
     "end_time": "2024-07-28T14:33:33.912033Z",
     "start_time": "2024-07-28T14:33:33.899677Z"
    }
   },
   "cell_type": "code",
   "source": [
    "# Load the data\n",
    "data = pd.read_csv('emotion_prediction_dataset.csv')"
   ],
   "id": "f08ce741256a2ffa",
   "outputs": [],
   "execution_count": 11
  },
  {
   "metadata": {
    "ExecuteTime": {
     "end_time": "2024-07-28T14:33:35.398382Z",
     "start_time": "2024-07-28T14:33:35.373052Z"
    }
   },
   "cell_type": "code",
   "source": "data.sample(10)",
   "id": "ae01408d547748b0",
   "outputs": [
    {
     "data": {
      "text/plain": [
       "                                                Tweet       Emotion\n",
       "48  Mate the thing I get excited about in my profe...           joy\n",
       "82  will brawndo cure my depression? @MikeJudge #I...       sadness\n",
       "85  Texans and Astros both shut out tonight. Houst...       sadness\n",
       "14  @Montel_Williams If this ban goes through, it ...       disgust\n",
       "94  @janhopis I found the first few episodes of Bo...         trust\n",
       "99  @ProSyndicate thanks for replying, I'm ironing...         trust\n",
       "6   tomorrow will be the last episode of despair a...  anticipation\n",
       "42  Thank you disney themed episode for letting me...           joy\n",
       "98  Have any of you ever stayed in hostels oversea...         trust\n",
       "2   Im so serious about putting words in my mouth ...         anger"
      ],
      "text/html": [
       "<div>\n",
       "<style scoped>\n",
       "    .dataframe tbody tr th:only-of-type {\n",
       "        vertical-align: middle;\n",
       "    }\n",
       "\n",
       "    .dataframe tbody tr th {\n",
       "        vertical-align: top;\n",
       "    }\n",
       "\n",
       "    .dataframe thead th {\n",
       "        text-align: right;\n",
       "    }\n",
       "</style>\n",
       "<table border=\"1\" class=\"dataframe\">\n",
       "  <thead>\n",
       "    <tr style=\"text-align: right;\">\n",
       "      <th></th>\n",
       "      <th>Tweet</th>\n",
       "      <th>Emotion</th>\n",
       "    </tr>\n",
       "  </thead>\n",
       "  <tbody>\n",
       "    <tr>\n",
       "      <th>48</th>\n",
       "      <td>Mate the thing I get excited about in my profe...</td>\n",
       "      <td>joy</td>\n",
       "    </tr>\n",
       "    <tr>\n",
       "      <th>82</th>\n",
       "      <td>will brawndo cure my depression? @MikeJudge #I...</td>\n",
       "      <td>sadness</td>\n",
       "    </tr>\n",
       "    <tr>\n",
       "      <th>85</th>\n",
       "      <td>Texans and Astros both shut out tonight. Houst...</td>\n",
       "      <td>sadness</td>\n",
       "    </tr>\n",
       "    <tr>\n",
       "      <th>14</th>\n",
       "      <td>@Montel_Williams If this ban goes through, it ...</td>\n",
       "      <td>disgust</td>\n",
       "    </tr>\n",
       "    <tr>\n",
       "      <th>94</th>\n",
       "      <td>@janhopis I found the first few episodes of Bo...</td>\n",
       "      <td>trust</td>\n",
       "    </tr>\n",
       "    <tr>\n",
       "      <th>99</th>\n",
       "      <td>@ProSyndicate thanks for replying, I'm ironing...</td>\n",
       "      <td>trust</td>\n",
       "    </tr>\n",
       "    <tr>\n",
       "      <th>6</th>\n",
       "      <td>tomorrow will be the last episode of despair a...</td>\n",
       "      <td>anticipation</td>\n",
       "    </tr>\n",
       "    <tr>\n",
       "      <th>42</th>\n",
       "      <td>Thank you disney themed episode for letting me...</td>\n",
       "      <td>joy</td>\n",
       "    </tr>\n",
       "    <tr>\n",
       "      <th>98</th>\n",
       "      <td>Have any of you ever stayed in hostels oversea...</td>\n",
       "      <td>trust</td>\n",
       "    </tr>\n",
       "    <tr>\n",
       "      <th>2</th>\n",
       "      <td>Im so serious about putting words in my mouth ...</td>\n",
       "      <td>anger</td>\n",
       "    </tr>\n",
       "  </tbody>\n",
       "</table>\n",
       "</div>"
      ]
     },
     "execution_count": 12,
     "metadata": {},
     "output_type": "execute_result"
    }
   ],
   "execution_count": 12
  },
  {
   "metadata": {
    "ExecuteTime": {
     "end_time": "2024-07-28T14:34:12.659717Z",
     "start_time": "2024-07-28T14:34:12.651336Z"
    }
   },
   "cell_type": "code",
   "source": "data.shape",
   "id": "ee205bb9d0c427e9",
   "outputs": [
    {
     "data": {
      "text/plain": [
       "(100, 2)"
      ]
     },
     "execution_count": 13,
     "metadata": {},
     "output_type": "execute_result"
    }
   ],
   "execution_count": 13
  },
  {
   "metadata": {
    "ExecuteTime": {
     "end_time": "2024-07-28T14:50:12.422760Z",
     "start_time": "2024-07-28T14:50:12.414731Z"
    }
   },
   "cell_type": "code",
   "source": "data.columns",
   "id": "14728c8856b3af4e",
   "outputs": [
    {
     "data": {
      "text/plain": [
       "Index(['Tweet', 'Emotion'], dtype='object')"
      ]
     },
     "execution_count": 45,
     "metadata": {},
     "output_type": "execute_result"
    }
   ],
   "execution_count": 45
  },
  {
   "metadata": {
    "ExecuteTime": {
     "end_time": "2024-07-28T14:34:55.761668Z",
     "start_time": "2024-07-28T14:34:55.736760Z"
    }
   },
   "cell_type": "code",
   "source": "print(data.info())",
   "id": "ded6bd755495853e",
   "outputs": [
    {
     "name": "stdout",
     "output_type": "stream",
     "text": [
      "<class 'pandas.core.frame.DataFrame'>\n",
      "RangeIndex: 100 entries, 0 to 99\n",
      "Data columns (total 2 columns):\n",
      " #   Column   Non-Null Count  Dtype \n",
      "---  ------   --------------  ----- \n",
      " 0   Tweet    100 non-null    object\n",
      " 1   Emotion  100 non-null    object\n",
      "dtypes: object(2)\n",
      "memory usage: 1.7+ KB\n",
      "None\n"
     ]
    }
   ],
   "execution_count": 17
  },
  {
   "metadata": {},
   "cell_type": "markdown",
   "source": "### Above you can see data is cleaned no NULL value in both columns.",
   "id": "b1fe404c62cc6a6b"
  },
  {
   "metadata": {},
   "cell_type": "markdown",
   "source": [
    "# Step 2: Data Cleaning Functions\n",
    "\n",
    "We'll create three separate data cleaning functions to preprocess the ``'Tweet'`` column. <br> These functions will handle different aspects of text cleaning: ``removing symbols and numbers``, converting text to ``lowercase``, and removing ``stopwords``. <br>We will also create a clean_text function that applies all three cleaning steps for simplicity."
   ],
   "id": "27eccf6e700788b8"
  },
  {
   "metadata": {},
   "cell_type": "markdown",
   "source": [
    "## Function 1: remove_symbols_numbers\n",
    "\n",
    "This function removes all ``non-alphabetic`` characters (symbols and numbers) from the input text, retaining only alphabetic characters and spaces."
   ],
   "id": "12658eb3da7a2464"
  },
  {
   "metadata": {
    "ExecuteTime": {
     "end_time": "2024-07-28T14:36:14.368188Z",
     "start_time": "2024-07-28T14:36:14.363307Z"
    }
   },
   "cell_type": "code",
   "source": [
    "def remove_symbols_numbers(text):\n",
    "    return re.sub(r'[^a-zA-Z\\s]', '', text)"
   ],
   "id": "83bf1360c8c59a4d",
   "outputs": [],
   "execution_count": 18
  },
  {
   "metadata": {},
   "cell_type": "markdown",
   "source": [
    "## Function 2: to_lowercase\n",
    "\n",
    "This function converts all characters in the input text to ``lowercase``."
   ],
   "id": "fdcb6f207034058a"
  },
  {
   "metadata": {
    "ExecuteTime": {
     "end_time": "2024-07-28T14:36:18.915926Z",
     "start_time": "2024-07-28T14:36:18.910306Z"
    }
   },
   "cell_type": "code",
   "source": [
    "def to_lowercase(text):\n",
    "    return text.lower()"
   ],
   "id": "90e721fcc138dc9",
   "outputs": [],
   "execution_count": 19
  },
  {
   "metadata": {},
   "cell_type": "markdown",
   "source": [
    "## Function 3: remove_stopwords\n",
    "\n",
    "This function removes common stopwords from the input text. Stopwords are frequently used words in a language that carry little meaning ``(e.g., \"and\", \"the\", \"is\")``."
   ],
   "id": "37416305bc82ffa8"
  },
  {
   "metadata": {
    "ExecuteTime": {
     "end_time": "2024-07-28T14:36:21.088768Z",
     "start_time": "2024-07-28T14:36:21.081878Z"
    }
   },
   "cell_type": "code",
   "source": [
    "def remove_stopwords(text):\n",
    "    words = text.split()\n",
    "    words = [word for word in words if word not in ENGLISH_STOP_WORDS]\n",
    "    return ' '.join(words)"
   ],
   "id": "5e50d8b881354fae",
   "outputs": [],
   "execution_count": 20
  },
  {
   "metadata": {},
   "cell_type": "markdown",
   "source": [
    "## Combined Function: clean_text\n",
    "\n",
    "This function applies all three cleaning steps to the input text."
   ],
   "id": "df2c735e437acfe9"
  },
  {
   "metadata": {
    "ExecuteTime": {
     "end_time": "2024-07-28T14:36:23.879331Z",
     "start_time": "2024-07-28T14:36:23.873371Z"
    }
   },
   "cell_type": "code",
   "source": [
    "def clean_text(text):\n",
    "    text = remove_symbols_numbers(text)\n",
    "    text = to_lowercase(text)\n",
    "    text = remove_stopwords(text)\n",
    "    return text"
   ],
   "id": "fb8bc3daa5c3edf8",
   "outputs": [],
   "execution_count": 21
  },
  {
   "metadata": {},
   "cell_type": "markdown",
   "source": [
    "## Applying the Cleaning Functions\n",
    "\n",
    "We will apply the clean_text function to the ``'Tweet'`` column of the dataset."
   ],
   "id": "a16fe9f1734f477"
  },
  {
   "metadata": {
    "ExecuteTime": {
     "end_time": "2024-07-28T14:36:42.141146Z",
     "start_time": "2024-07-28T14:36:42.122629Z"
    }
   },
   "cell_type": "code",
   "source": [
    "# Apply the cleaning function to the 'description' column\n",
    "data['Tweet'] = data['Tweet'].apply(clean_text)"
   ],
   "id": "1b994eb1f23af2c",
   "outputs": [],
   "execution_count": 22
  },
  {
   "metadata": {},
   "cell_type": "markdown",
   "source": [
    "# Step 3: Vectorization\n",
    "\n",
    "After cleaning the text data, we convert the ``'Tweet'`` column into numerical features using ``TF-IDF(Term Frequency-Inverse Document Frequency`` vectorization. This step transforms the text data into a format suitable for machine learning models.\n",
    "\n",
    "## TF-IDF Vectorization\n",
    "\n",
    "To convert text data into numerical features by calculating the ``TF-IDF`` score for each word in the text. TF-IDF helps in giving importance to words that are frequent in a document but not across all documents."
   ],
   "id": "13564587dbee7c05"
  },
  {
   "metadata": {
    "ExecuteTime": {
     "end_time": "2024-07-28T14:38:16.251339Z",
     "start_time": "2024-07-28T14:38:16.216485Z"
    }
   },
   "cell_type": "code",
   "source": [
    "vectorizer = TfidfVectorizer()\n",
    "\n",
    "# Apply TF-IDF on 'description' column\n",
    "X = vectorizer.fit_transform(data['Tweet'])\n",
    "\n",
    "# The target variable\n",
    "y = data['Emotion']"
   ],
   "id": "2b4247c834ed218a",
   "outputs": [],
   "execution_count": 23
  },
  {
   "metadata": {},
   "cell_type": "markdown",
   "source": " The result is a sparse matrix X where each row represents a description and each column represents a unique word in the corpus. The values in the matrix are the TF-IDF scores of the words.",
   "id": "d4f8c6ba215bece9"
  },
  {
   "metadata": {},
   "cell_type": "markdown",
   "source": [
    "# Step 4: Model Training and Evaluation\n",
    "\n",
    "We train and evaluate a machine learning model to predict the gender based on the ``TF-IDF`` vectors. Here, we use ``Logistic Regression`` as an example.\n",
    "\n",
    "## Train-Test Split\n",
    "\n",
    "To split the data into training and testing sets. The ``training set`` is used to train the model, and the ``testing set`` is used to evaluate the model's performance on unseen data."
   ],
   "id": "cea73725dd7453cc"
  },
  {
   "metadata": {
    "ExecuteTime": {
     "end_time": "2024-07-28T14:38:28.427985Z",
     "start_time": "2024-07-28T14:38:28.418390Z"
    }
   },
   "cell_type": "code",
   "source": "X_train, X_test, y_train, y_test = train_test_split(X, y, test_size=0.2, random_state=42)",
   "id": "855b88266344d621",
   "outputs": [],
   "execution_count": 24
  },
  {
   "metadata": {},
   "cell_type": "markdown",
   "source": [
    "# Step 5: Model Training\n",
    "\n",
    "To train a machine learning model on the training data."
   ],
   "id": "b1b8b2286294aae8"
  },
  {
   "metadata": {},
   "cell_type": "markdown",
   "source": "### Logistic Regression model",
   "id": "56f4832bd3d51d40"
  },
  {
   "metadata": {
    "ExecuteTime": {
     "end_time": "2024-07-28T14:42:57.631032Z",
     "start_time": "2024-07-28T14:42:57.568835Z"
    }
   },
   "cell_type": "code",
   "source": [
    "model = LogisticRegression()\n",
    "\n",
    "model.fit(X_train, y_train)\n",
    "\n",
    "y_pred = model.predict(X_test)"
   ],
   "id": "f41c8a277da7d5e2",
   "outputs": [],
   "execution_count": 33
  },
  {
   "metadata": {},
   "cell_type": "markdown",
   "source": [
    "# Step 6: Model Evaluation\n",
    "\n",
    "To evaluate the performance."
   ],
   "id": "634a89cda6959a8e"
  },
  {
   "metadata": {
    "ExecuteTime": {
     "end_time": "2024-07-28T14:43:05.357935Z",
     "start_time": "2024-07-28T14:43:05.339715Z"
    }
   },
   "cell_type": "code",
   "source": [
    "print(\"Logistic Regression Accuracy:\", accuracy_score(y_test, y_pred))\n",
    "print(classification_report(y_test, y_pred))\n"
   ],
   "id": "b99453a14670fcf",
   "outputs": [
    {
     "name": "stdout",
     "output_type": "stream",
     "text": [
      "Logistic Regression Accuracy: 0.15\n",
      "              precision    recall  f1-score   support\n",
      "\n",
      "       anger       0.00      0.00      0.00         2\n",
      "anticipation       0.00      0.00      0.00         2\n",
      "     disgust       0.50      0.50      0.50         2\n",
      "        fear       0.00      0.00      0.00         3\n",
      "         joy       0.18      0.67      0.29         3\n",
      "        love       0.00      0.00      0.00         1\n",
      "   pessimism       0.00      0.00      0.00         2\n",
      "     sadness       0.00      0.00      0.00         4\n",
      "    surprise       0.00      0.00      0.00         1\n",
      "       trust       0.00      0.00      0.00         0\n",
      "\n",
      "    accuracy                           0.15        20\n",
      "   macro avg       0.07      0.12      0.08        20\n",
      "weighted avg       0.08      0.15      0.09        20\n",
      "\n"
     ]
    }
   ],
   "execution_count": 34
  },
  {
   "metadata": {},
   "cell_type": "markdown",
   "source": "## Applying different models and testing who is performing better",
   "id": "be686807d105cd5d"
  },
  {
   "metadata": {},
   "cell_type": "markdown",
   "source": "# Naive Bayes model",
   "id": "c60fa57802bf5181"
  },
  {
   "metadata": {
    "ExecuteTime": {
     "end_time": "2024-07-28T14:43:14.280689Z",
     "start_time": "2024-07-28T14:43:14.256531Z"
    }
   },
   "cell_type": "code",
   "source": [
    "nb_model = MultinomialNB()\n",
    "\n",
    "\n",
    "nb_model.fit(X_train, y_train)\n",
    "\n",
    "y_pred_nb = nb_model.predict(X_test)\n",
    "\n",
    "# Evaluate the model\n",
    "print(\"Naive Bayes Accuracy:\", accuracy_score(y_test, y_pred_nb))\n",
    "print(classification_report(y_test, y_pred_nb))\n"
   ],
   "id": "f7d1ccb6fdbb4bfa",
   "outputs": [
    {
     "name": "stdout",
     "output_type": "stream",
     "text": [
      "Naive Bayes Accuracy: 0.2\n",
      "              precision    recall  f1-score   support\n",
      "\n",
      "       anger       0.00      0.00      0.00         2\n",
      "anticipation       0.00      0.00      0.00         2\n",
      "     disgust       0.50      0.50      0.50         2\n",
      "        fear       0.18      0.67      0.29         3\n",
      "         joy       0.25      0.33      0.29         3\n",
      "        love       0.00      0.00      0.00         1\n",
      "   pessimism       0.00      0.00      0.00         2\n",
      "     sadness       0.00      0.00      0.00         4\n",
      "    surprise       0.00      0.00      0.00         1\n",
      "       trust       0.00      0.00      0.00         0\n",
      "\n",
      "    accuracy                           0.20        20\n",
      "   macro avg       0.09      0.15      0.11        20\n",
      "weighted avg       0.11      0.20      0.14        20\n",
      "\n"
     ]
    }
   ],
   "execution_count": 35
  },
  {
   "metadata": {},
   "cell_type": "markdown",
   "source": "# Decision Tree model",
   "id": "5c087a425d815946"
  },
  {
   "metadata": {
    "ExecuteTime": {
     "end_time": "2024-07-28T14:43:17.071920Z",
     "start_time": "2024-07-28T14:43:17.022637Z"
    }
   },
   "cell_type": "code",
   "source": [
    "dt_model = DecisionTreeClassifier()\n",
    "\n",
    "# Train the model\n",
    "dt_model.fit(X_train, y_train)\n",
    "\n",
    "# Predict on the test set\n",
    "y_pred_dt = dt_model.predict(X_test)\n",
    "\n",
    "# Evaluate the model\n",
    "print(\"Decision Tree Accuracy:\", accuracy_score(y_test, y_pred_dt))\n",
    "print(classification_report(y_test, y_pred_dt))"
   ],
   "id": "ea552b4d9752e82f",
   "outputs": [
    {
     "name": "stdout",
     "output_type": "stream",
     "text": [
      "Decision Tree Accuracy: 0.3\n",
      "              precision    recall  f1-score   support\n",
      "\n",
      "       anger       0.00      0.00      0.00         2\n",
      "anticipation       0.00      0.00      0.00         2\n",
      "     disgust       0.33      0.50      0.40         2\n",
      "        fear       0.00      0.00      0.00         3\n",
      "         joy       0.17      0.67      0.27         3\n",
      "        love       1.00      1.00      1.00         1\n",
      "   pessimism       0.67      1.00      0.80         2\n",
      "     sadness       0.00      0.00      0.00         4\n",
      "    surprise       0.00      0.00      0.00         1\n",
      "\n",
      "    accuracy                           0.30        20\n",
      "   macro avg       0.24      0.35      0.27        20\n",
      "weighted avg       0.17      0.30      0.21        20\n",
      "\n"
     ]
    }
   ],
   "execution_count": 36
  },
  {
   "metadata": {},
   "cell_type": "markdown",
   "source": "# Random Forest model",
   "id": "f4030f7bf1d54e6b"
  },
  {
   "metadata": {
    "ExecuteTime": {
     "end_time": "2024-07-28T14:43:20.465588Z",
     "start_time": "2024-07-28T14:43:19.847776Z"
    }
   },
   "cell_type": "code",
   "source": [
    "rf_model = RandomForestClassifier()\n",
    "\n",
    "# Train the model\n",
    "rf_model.fit(X_train, y_train)\n",
    "\n",
    "# Predict on the test set\n",
    "y_pred_rf = rf_model.predict(X_test)\n",
    "\n",
    "# Evaluate the model\n",
    "print(\"Random Forest Accuracy:\", accuracy_score(y_test, y_pred_rf))\n",
    "print(classification_report(y_test, y_pred_rf))\n"
   ],
   "id": "471e48e8245e8395",
   "outputs": [
    {
     "name": "stdout",
     "output_type": "stream",
     "text": [
      "Random Forest Accuracy: 0.2\n",
      "              precision    recall  f1-score   support\n",
      "\n",
      "       anger       0.00      0.00      0.00         2\n",
      "anticipation       0.00      0.00      0.00         2\n",
      "     disgust       0.15      1.00      0.27         2\n",
      "        fear       0.00      0.00      0.00         3\n",
      "         joy       0.50      0.33      0.40         3\n",
      "        love       0.20      1.00      0.33         1\n",
      "   pessimism       0.00      0.00      0.00         2\n",
      "     sadness       0.00      0.00      0.00         4\n",
      "    surprise       0.00      0.00      0.00         1\n",
      "\n",
      "    accuracy                           0.20        20\n",
      "   macro avg       0.09      0.26      0.11        20\n",
      "weighted avg       0.10      0.20      0.10        20\n",
      "\n"
     ]
    }
   ],
   "execution_count": 37
  },
  {
   "metadata": {},
   "cell_type": "markdown",
   "source": " # SVM model",
   "id": "83b6e7457d5709dd"
  },
  {
   "metadata": {
    "ExecuteTime": {
     "end_time": "2024-07-28T14:43:23.485406Z",
     "start_time": "2024-07-28T14:43:23.456507Z"
    }
   },
   "cell_type": "code",
   "source": [
    "svm_model = SVC()\n",
    "\n",
    "# Train the model\n",
    "svm_model.fit(X_train, y_train)\n",
    "\n",
    "# Predict on the test set\n",
    "y_pred_svm = svm_model.predict(X_test)\n",
    "\n",
    "# Evaluate the model\n",
    "print(\"SVM Accuracy:\", accuracy_score(y_test, y_pred_svm))\n",
    "print(classification_report(y_test, y_pred_svm))\n"
   ],
   "id": "813b831f46eb2ed2",
   "outputs": [
    {
     "name": "stdout",
     "output_type": "stream",
     "text": [
      "SVM Accuracy: 0.2\n",
      "              precision    recall  f1-score   support\n",
      "\n",
      "       anger       0.00      0.00      0.00         2\n",
      "anticipation       0.00      0.00      0.00         2\n",
      "     disgust       1.00      0.50      0.67         2\n",
      "        fear       0.00      0.00      0.00         3\n",
      "         joy       0.16      1.00      0.27         3\n",
      "        love       0.00      0.00      0.00         1\n",
      "   pessimism       0.00      0.00      0.00         2\n",
      "     sadness       0.00      0.00      0.00         4\n",
      "    surprise       0.00      0.00      0.00         1\n",
      "\n",
      "    accuracy                           0.20        20\n",
      "   macro avg       0.13      0.17      0.10        20\n",
      "weighted avg       0.12      0.20      0.11        20\n",
      "\n"
     ]
    }
   ],
   "execution_count": 38
  },
  {
   "metadata": {},
   "cell_type": "markdown",
   "source": "# KNN (K Nearest Neighbors) model",
   "id": "7136bf1d25df5cb"
  },
  {
   "metadata": {
    "ExecuteTime": {
     "end_time": "2024-07-28T14:43:26.558281Z",
     "start_time": "2024-07-28T14:43:26.354028Z"
    }
   },
   "cell_type": "code",
   "source": [
    "knn_model = KNeighborsClassifier()\n",
    "\n",
    "# Train the model\n",
    "knn_model.fit(X_train, y_train)\n",
    "\n",
    "# Predict on the test set\n",
    "y_pred_knn = knn_model.predict(X_test)\n",
    "\n",
    "# Evaluate the model\n",
    "print(\"KNN Accuracy:\", accuracy_score(y_test, y_pred_knn))\n",
    "print(classification_report(y_test, y_pred_knn))\n"
   ],
   "id": "397e54670949cf8d",
   "outputs": [
    {
     "name": "stdout",
     "output_type": "stream",
     "text": [
      "KNN Accuracy: 0.1\n",
      "              precision    recall  f1-score   support\n",
      "\n",
      "       anger       0.00      0.00      0.00         2\n",
      "anticipation       0.00      0.00      0.00         2\n",
      "     disgust       0.50      0.50      0.50         2\n",
      "        fear       0.00      0.00      0.00         3\n",
      "         joy       0.00      0.00      0.00         3\n",
      "        love       0.14      1.00      0.25         1\n",
      "    optimism       0.00      0.00      0.00         0\n",
      "   pessimism       0.00      0.00      0.00         2\n",
      "     sadness       0.00      0.00      0.00         4\n",
      "    surprise       0.00      0.00      0.00         1\n",
      "\n",
      "    accuracy                           0.10        20\n",
      "   macro avg       0.06      0.15      0.07        20\n",
      "weighted avg       0.06      0.10      0.06        20\n",
      "\n"
     ]
    }
   ],
   "execution_count": 39
  },
  {
   "metadata": {},
   "cell_type": "markdown",
   "source": [
    "## We can see in our nature of dataset the Decision Tree model give us high result.\n",
    "So, this model use for real time prediction."
   ],
   "id": "19d5387b4b82f2"
  },
  {
   "metadata": {
    "ExecuteTime": {
     "end_time": "2024-07-28T14:44:59.294624Z",
     "start_time": "2024-07-28T14:44:59.250010Z"
    }
   },
   "cell_type": "code",
   "source": [
    "# Save the best model KNN\n",
    "joblib.dump(dt_model, 'best_emotion_prediction_model_dt_model.pkl')\n",
    "\n",
    "# Save the TF-IDF vectorizer\n",
    "joblib.dump(vectorizer, 'tfidf_vectorizer.pkl')\n"
   ],
   "id": "d99e9a4ef6163958",
   "outputs": [
    {
     "data": {
      "text/plain": [
       "['tfidf_vectorizer.pkl']"
      ]
     },
     "execution_count": 40,
     "metadata": {},
     "output_type": "execute_result"
    }
   ],
   "execution_count": 40
  },
  {
   "metadata": {},
   "cell_type": "markdown",
   "source": [
    "# Step 7: Load the Model and Vectorizer for Real-Time Predictions\n",
    "\n",
    "Now, let's write the code to load the saved model and vectorizer, and then get real-time predictions based on user input:"
   ],
   "id": "8061219473fde24c"
  },
  {
   "metadata": {
    "ExecuteTime": {
     "end_time": "2024-07-28T14:45:32.144722Z",
     "start_time": "2024-07-28T14:45:32.088326Z"
    }
   },
   "cell_type": "code",
   "source": [
    "import joblib\n",
    "\n",
    "# Load the trained model\n",
    "model = joblib.load('best_emotion_prediction_model_dt_model.pkl')\n",
    "\n",
    "# Load the TF-IDF vectorizer\n",
    "vectorizer = joblib.load('tfidf_vectorizer.pkl')"
   ],
   "id": "e562c8b785ae54a7",
   "outputs": [],
   "execution_count": 42
  },
  {
   "metadata": {
    "ExecuteTime": {
     "end_time": "2024-07-28T14:45:42.982946Z",
     "start_time": "2024-07-28T14:45:42.976651Z"
    }
   },
   "cell_type": "code",
   "source": [
    "def predict_emotion(description):\n",
    "    # Clean the input description\n",
    "    cleaned_description = clean_text(description)\n",
    "\n",
    "    # Transform the input description using the trained TF-IDF vectorizer\n",
    "    description_tfidf = vectorizer.transform([cleaned_description])\n",
    "\n",
    "    # Predict gender using the trained model\n",
    "    prediction = model.predict(description_tfidf)\n",
    "\n",
    "    return prediction[0]"
   ],
   "id": "92655234b4c61f2e",
   "outputs": [],
   "execution_count": 43
  },
  {
   "metadata": {
    "ExecuteTime": {
     "end_time": "2024-07-28T14:47:32.195375Z",
     "start_time": "2024-07-28T14:47:29.378231Z"
    }
   },
   "cell_type": "code",
   "source": [
    "# Get input description from the user\n",
    "new_description = input(\"Enter a Tweet : \")\n",
    "\n",
    "# Predict the gender\n",
    "predicted_gender = predict_emotion(new_description)\n",
    "print(\"Predicted Emotion:\", predicted_gender)\n"
   ],
   "id": "67dd2164a5d4a71f",
   "outputs": [
    {
     "name": "stdout",
     "output_type": "stream",
     "text": [
      "Predicted Emotion: joy\n"
     ]
    }
   ],
   "execution_count": 44
  },
  {
   "metadata": {},
   "cell_type": "markdown",
   "source": [
    "## ---- Happy Learning ----\n",
    "## ---- Always Keep Smile ----"
   ],
   "id": "70708da20ff5b217"
  },
  {
   "metadata": {},
   "cell_type": "markdown",
   "source": "# ---- Jazakallah Khair ----",
   "id": "69ca92810bf7f5f6"
  }
 ],
 "metadata": {
  "kernelspec": {
   "display_name": "Python 3",
   "language": "python",
   "name": "python3"
  },
  "language_info": {
   "codemirror_mode": {
    "name": "ipython",
    "version": 2
   },
   "file_extension": ".py",
   "mimetype": "text/x-python",
   "name": "python",
   "nbconvert_exporter": "python",
   "pygments_lexer": "ipython2",
   "version": "2.7.6"
  }
 },
 "nbformat": 4,
 "nbformat_minor": 5
}
